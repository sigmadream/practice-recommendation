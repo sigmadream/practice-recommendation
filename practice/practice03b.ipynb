{
  "cells": [
    {
      "cell_type": "markdown",
      "metadata": {
        "id": "NqmkCypbPYj-"
      },
      "source": [
        "## 카운트 방식의 텍스트 유사도 계산"
      ]
    },
    {
      "cell_type": "code",
      "execution_count": 2,
      "metadata": {
        "id": "uf6gpe7HCoDq"
      },
      "outputs": [],
      "source": [
        "from sklearn.feature_extraction.text import TfidfVectorizer, CountVectorizer\n",
        "import pandas as pd"
      ]
    },
    {
      "cell_type": "code",
      "execution_count": 11,
      "metadata": {
        "id": "MMK46g_zC2VU"
      },
      "outputs": [],
      "source": [
        "text = [\n",
        "    \"The see is blue.\",  # ‘sky’, ‘blue’\n",
        "    \"The sky is bright.\",  # ‘sun’, ‘bright’\n",
        "    \"The sky in the sea is bright\",  # ‘sun’, ‘sky’, ‘bright’\n",
        "    \"We can see the shining see, the bright sky .\",  # ‘ see’, ‘shining’, ‘sun’, ‘bright’\n",
        "]"
      ]
    },
    {
      "cell_type": "code",
      "execution_count": 12,
      "metadata": {
        "id": "ZtMjZ-LSDmU4"
      },
      "outputs": [],
      "source": [
        "countvectorizer = CountVectorizer(analyzer=\"word\", stop_words=\"english\")"
      ]
    },
    {
      "cell_type": "code",
      "execution_count": 13,
      "metadata": {
        "colab": {
          "base_uri": "https://localhost:8080/"
        },
        "id": "sLMkEsj4C4yO",
        "outputId": "e48c9674-a8f2-42f8-99de-1af5c11c62f3"
      },
      "outputs": [
        {
          "name": "stdout",
          "output_type": "stream",
          "text": [
            "(4, 5)\n",
            "[[1 0 0 0 0]\n",
            " [0 1 0 0 1]\n",
            " [0 1 1 0 1]\n",
            " [0 1 0 1 1]]\n"
          ]
        }
      ],
      "source": [
        "count_wm = countvectorizer.fit_transform(text)\n",
        "print(count_wm.shape)\n",
        "print(count_wm.todense())"
      ]
    },
    {
      "cell_type": "code",
      "execution_count": 16,
      "metadata": {
        "colab": {
          "base_uri": "https://localhost:8080/",
          "height": 182
        },
        "id": "v8Cy3exlhc61",
        "outputId": "6e396ea9-3c1a-4722-cde5-41c06f8d2064"
      },
      "outputs": [
        {
          "name": "stdout",
          "output_type": "stream",
          "text": [
            "['blue' 'bright' 'sea' 'shining' 'sky']\n"
          ]
        },
        {
          "data": {
            "text/html": [
              "<div>\n",
              "<style scoped>\n",
              "    .dataframe tbody tr th:only-of-type {\n",
              "        vertical-align: middle;\n",
              "    }\n",
              "\n",
              "    .dataframe tbody tr th {\n",
              "        vertical-align: top;\n",
              "    }\n",
              "\n",
              "    .dataframe thead th {\n",
              "        text-align: right;\n",
              "    }\n",
              "</style>\n",
              "<table border=\"1\" class=\"dataframe\">\n",
              "  <thead>\n",
              "    <tr style=\"text-align: right;\">\n",
              "      <th></th>\n",
              "      <th>blue</th>\n",
              "      <th>bright</th>\n",
              "      <th>sea</th>\n",
              "      <th>shining</th>\n",
              "      <th>sky</th>\n",
              "    </tr>\n",
              "  </thead>\n",
              "  <tbody>\n",
              "    <tr>\n",
              "      <th>S1</th>\n",
              "      <td>1</td>\n",
              "      <td>0</td>\n",
              "      <td>0</td>\n",
              "      <td>0</td>\n",
              "      <td>0</td>\n",
              "    </tr>\n",
              "    <tr>\n",
              "      <th>S2</th>\n",
              "      <td>0</td>\n",
              "      <td>1</td>\n",
              "      <td>0</td>\n",
              "      <td>0</td>\n",
              "      <td>1</td>\n",
              "    </tr>\n",
              "    <tr>\n",
              "      <th>S3</th>\n",
              "      <td>0</td>\n",
              "      <td>1</td>\n",
              "      <td>1</td>\n",
              "      <td>0</td>\n",
              "      <td>1</td>\n",
              "    </tr>\n",
              "    <tr>\n",
              "      <th>S4</th>\n",
              "      <td>0</td>\n",
              "      <td>1</td>\n",
              "      <td>0</td>\n",
              "      <td>1</td>\n",
              "      <td>1</td>\n",
              "    </tr>\n",
              "  </tbody>\n",
              "</table>\n",
              "</div>"
            ],
            "text/plain": [
              "    blue  bright  sea  shining  sky\n",
              "S1     1       0    0        0    0\n",
              "S2     0       1    0        0    1\n",
              "S3     0       1    1        0    1\n",
              "S4     0       1    0        1    1"
            ]
          },
          "execution_count": 16,
          "metadata": {},
          "output_type": "execute_result"
        }
      ],
      "source": [
        "count_tokens = countvectorizer.get_feature_names_out()\n",
        "print(count_tokens)\n",
        "df_countvect = pd.DataFrame(\n",
        "    data=count_wm.toarray(),\n",
        "    index=[\"S1\", \"S2\", \"S3\", \"S4\"],\n",
        "    columns=count_tokens,\n",
        ")\n",
        "df_countvect.head()"
      ]
    },
    {
      "cell_type": "code",
      "execution_count": 17,
      "metadata": {
        "colab": {
          "base_uri": "https://localhost:8080/"
        },
        "id": "VJn-k9qqQVDN",
        "outputId": "69e4e290-7e10-4feb-dcb2-aff6dae8b58b"
      },
      "outputs": [
        {
          "name": "stdout",
          "output_type": "stream",
          "text": [
            "[[1.         0.         0.         0.        ]\n",
            " [0.         1.         0.81649658 0.81649658]\n",
            " [0.         0.81649658 1.         0.66666667]\n",
            " [0.         0.81649658 0.66666667 1.        ]]\n"
          ]
        }
      ],
      "source": [
        "from sklearn.metrics.pairwise import cosine_similarity\n",
        "\n",
        "cosine_similarities = cosine_similarity(count_wm)\n",
        "print(cosine_similarities)"
      ]
    },
    {
      "cell_type": "code",
      "execution_count": 19,
      "metadata": {
        "colab": {
          "base_uri": "https://localhost:8080/",
          "height": 166
        },
        "id": "awixZRU0QbQO",
        "outputId": "9dece9f1-5267-40f3-da61-a60523d94a2f"
      },
      "outputs": [
        {
          "data": {
            "text/html": [
              "<div>\n",
              "<style scoped>\n",
              "    .dataframe tbody tr th:only-of-type {\n",
              "        vertical-align: middle;\n",
              "    }\n",
              "\n",
              "    .dataframe tbody tr th {\n",
              "        vertical-align: top;\n",
              "    }\n",
              "\n",
              "    .dataframe thead th {\n",
              "        text-align: right;\n",
              "    }\n",
              "</style>\n",
              "<table border=\"1\" class=\"dataframe\">\n",
              "  <thead>\n",
              "    <tr style=\"text-align: right;\">\n",
              "      <th></th>\n",
              "      <th>S1</th>\n",
              "      <th>S2</th>\n",
              "      <th>S3</th>\n",
              "      <th>S4</th>\n",
              "    </tr>\n",
              "  </thead>\n",
              "  <tbody>\n",
              "    <tr>\n",
              "      <th>S1</th>\n",
              "      <td>1.0</td>\n",
              "      <td>0.000000</td>\n",
              "      <td>0.000000</td>\n",
              "      <td>0.000000</td>\n",
              "    </tr>\n",
              "    <tr>\n",
              "      <th>S2</th>\n",
              "      <td>0.0</td>\n",
              "      <td>1.000000</td>\n",
              "      <td>0.816497</td>\n",
              "      <td>0.816497</td>\n",
              "    </tr>\n",
              "    <tr>\n",
              "      <th>S3</th>\n",
              "      <td>0.0</td>\n",
              "      <td>0.816497</td>\n",
              "      <td>1.000000</td>\n",
              "      <td>0.666667</td>\n",
              "    </tr>\n",
              "    <tr>\n",
              "      <th>S4</th>\n",
              "      <td>0.0</td>\n",
              "      <td>0.816497</td>\n",
              "      <td>0.666667</td>\n",
              "      <td>1.000000</td>\n",
              "    </tr>\n",
              "  </tbody>\n",
              "</table>\n",
              "</div>"
            ],
            "text/plain": [
              "     S1        S2        S3        S4\n",
              "S1  1.0  0.000000  0.000000  0.000000\n",
              "S2  0.0  1.000000  0.816497  0.816497\n",
              "S3  0.0  0.816497  1.000000  0.666667\n",
              "S4  0.0  0.816497  0.666667  1.000000"
            ]
          },
          "execution_count": 19,
          "metadata": {},
          "output_type": "execute_result"
        }
      ],
      "source": [
        "pd.DataFrame(\n",
        "    data=cosine_similarities,\n",
        "    index=[\"S1\", \"S2\", \"S3\", \"S4\"],\n",
        "    columns=[\"S1\", \"S2\", \"S3\", \"S4\"],\n",
        ")"
      ]
    },
    {
      "cell_type": "markdown",
      "metadata": {
        "id": "ODwM3LQVQEwg"
      },
      "source": [
        "## TF-IDF 방식의 텍스트 유사도 계산"
      ]
    },
    {
      "cell_type": "markdown",
      "metadata": {
        "id": "CdK9ZQzHDNvM"
      },
      "source": [
        "$TF-IDF$ = $TF(t, d) \\times IDF(t)$\n",
        "\n",
        "* $TF(t, d)$: 단어 $t$가 문서 $d$에서 몇번 나왔나?\n",
        "* $IDF(t)$: 단어가 $t$가 전체 문서들 중 몇개의 문서에서 나왔는지? $Ln(N/DF)$\n",
        "    * $N$은 총 문서수를 나타내고 $D$F는 단어가 나온 문서\n",
        "    \n",
        "기본적인 아이디어는 전체 문서에서 빈도수가 낮은 단어가 특정 문서에서 많이 나오는 경우 해당 문서에서 해당 단어의 점수가 더 높게 계산됨"
      ]
    },
    {
      "cell_type": "code",
      "execution_count": 20,
      "metadata": {
        "id": "WfBpE1-CPDtH"
      },
      "outputs": [],
      "source": [
        "tfidfvectorizer = TfidfVectorizer(analyzer=\"word\", stop_words=\"english\")"
      ]
    },
    {
      "cell_type": "code",
      "execution_count": 21,
      "metadata": {
        "colab": {
          "base_uri": "https://localhost:8080/"
        },
        "id": "jP_e0fYMTZBd",
        "outputId": "f6dd87f5-9915-42ce-b882-4a52bd3598c0"
      },
      "outputs": [
        {
          "name": "stdout",
          "output_type": "stream",
          "text": [
            "(4, 5)\n",
            "[[1.         0.         0.         0.         0.        ]\n",
            " [0.         0.70710678 0.         0.         0.70710678]\n",
            " [0.         0.47380449 0.74230628 0.         0.47380449]\n",
            " [0.         0.47380449 0.         0.74230628 0.47380449]]\n"
          ]
        }
      ],
      "source": [
        "tfidf_wm = tfidfvectorizer.fit_transform(text)\n",
        "print(tfidf_wm.shape)\n",
        "print(tfidf_wm.todense())"
      ]
    },
    {
      "cell_type": "code",
      "execution_count": 23,
      "metadata": {
        "colab": {
          "base_uri": "https://localhost:8080/",
          "height": 182
        },
        "id": "fnhEUPZvhmR-",
        "outputId": "1cb5a381-35be-4c4e-caf2-fe09b74a44e7"
      },
      "outputs": [
        {
          "name": "stdout",
          "output_type": "stream",
          "text": [
            "['blue' 'bright' 'sea' 'shining' 'sky']\n"
          ]
        },
        {
          "data": {
            "text/html": [
              "<div>\n",
              "<style scoped>\n",
              "    .dataframe tbody tr th:only-of-type {\n",
              "        vertical-align: middle;\n",
              "    }\n",
              "\n",
              "    .dataframe tbody tr th {\n",
              "        vertical-align: top;\n",
              "    }\n",
              "\n",
              "    .dataframe thead th {\n",
              "        text-align: right;\n",
              "    }\n",
              "</style>\n",
              "<table border=\"1\" class=\"dataframe\">\n",
              "  <thead>\n",
              "    <tr style=\"text-align: right;\">\n",
              "      <th></th>\n",
              "      <th>blue</th>\n",
              "      <th>bright</th>\n",
              "      <th>sea</th>\n",
              "      <th>shining</th>\n",
              "      <th>sky</th>\n",
              "    </tr>\n",
              "  </thead>\n",
              "  <tbody>\n",
              "    <tr>\n",
              "      <th>S1</th>\n",
              "      <td>1.0</td>\n",
              "      <td>0.000000</td>\n",
              "      <td>0.000000</td>\n",
              "      <td>0.000000</td>\n",
              "      <td>0.000000</td>\n",
              "    </tr>\n",
              "    <tr>\n",
              "      <th>S2</th>\n",
              "      <td>0.0</td>\n",
              "      <td>0.707107</td>\n",
              "      <td>0.000000</td>\n",
              "      <td>0.000000</td>\n",
              "      <td>0.707107</td>\n",
              "    </tr>\n",
              "    <tr>\n",
              "      <th>S3</th>\n",
              "      <td>0.0</td>\n",
              "      <td>0.473804</td>\n",
              "      <td>0.742306</td>\n",
              "      <td>0.000000</td>\n",
              "      <td>0.473804</td>\n",
              "    </tr>\n",
              "    <tr>\n",
              "      <th>S4</th>\n",
              "      <td>0.0</td>\n",
              "      <td>0.473804</td>\n",
              "      <td>0.000000</td>\n",
              "      <td>0.742306</td>\n",
              "      <td>0.473804</td>\n",
              "    </tr>\n",
              "  </tbody>\n",
              "</table>\n",
              "</div>"
            ],
            "text/plain": [
              "    blue    bright       sea   shining       sky\n",
              "S1   1.0  0.000000  0.000000  0.000000  0.000000\n",
              "S2   0.0  0.707107  0.000000  0.000000  0.707107\n",
              "S3   0.0  0.473804  0.742306  0.000000  0.473804\n",
              "S4   0.0  0.473804  0.000000  0.742306  0.473804"
            ]
          },
          "execution_count": 23,
          "metadata": {},
          "output_type": "execute_result"
        }
      ],
      "source": [
        "tfidf_tokens = tfidfvectorizer.get_feature_names_out()\n",
        "print(tfidf_tokens)\n",
        "df_tfidfvect = pd.DataFrame(\n",
        "    data=tfidf_wm.toarray(),\n",
        "    index=[\"S1\", \"S2\", \"S3\", \"S4\"],\n",
        "    columns=tfidf_tokens,\n",
        ")\n",
        "df_tfidfvect.head()"
      ]
    },
    {
      "cell_type": "code",
      "execution_count": 24,
      "metadata": {
        "colab": {
          "base_uri": "https://localhost:8080/"
        },
        "id": "Cgi1QKmhIaV5",
        "outputId": "8338a61f-dda5-4a08-f357-ab47154f3193"
      },
      "outputs": [
        {
          "name": "stdout",
          "output_type": "stream",
          "text": [
            "[[1.         0.         0.         0.        ]\n",
            " [0.         1.         0.67006073 0.67006073]\n",
            " [0.         0.67006073 1.         0.44898138]\n",
            " [0.         0.67006073 0.44898138 1.        ]]\n"
          ]
        }
      ],
      "source": [
        "from sklearn.metrics.pairwise import cosine_similarity\n",
        "\n",
        "cosine_similarities = cosine_similarity(tfidf_wm)\n",
        "print(cosine_similarities)"
      ]
    },
    {
      "cell_type": "code",
      "execution_count": 25,
      "metadata": {
        "colab": {
          "base_uri": "https://localhost:8080/",
          "height": 166
        },
        "id": "nZ5NXXP2RgiJ",
        "outputId": "606b154b-e1a0-4e7f-b6e7-7a3c07f78efd"
      },
      "outputs": [
        {
          "data": {
            "text/html": [
              "<div>\n",
              "<style scoped>\n",
              "    .dataframe tbody tr th:only-of-type {\n",
              "        vertical-align: middle;\n",
              "    }\n",
              "\n",
              "    .dataframe tbody tr th {\n",
              "        vertical-align: top;\n",
              "    }\n",
              "\n",
              "    .dataframe thead th {\n",
              "        text-align: right;\n",
              "    }\n",
              "</style>\n",
              "<table border=\"1\" class=\"dataframe\">\n",
              "  <thead>\n",
              "    <tr style=\"text-align: right;\">\n",
              "      <th></th>\n",
              "      <th>S1</th>\n",
              "      <th>S2</th>\n",
              "      <th>S3</th>\n",
              "      <th>S4</th>\n",
              "    </tr>\n",
              "  </thead>\n",
              "  <tbody>\n",
              "    <tr>\n",
              "      <th>S1</th>\n",
              "      <td>1.0</td>\n",
              "      <td>0.000000</td>\n",
              "      <td>0.000000</td>\n",
              "      <td>0.000000</td>\n",
              "    </tr>\n",
              "    <tr>\n",
              "      <th>S2</th>\n",
              "      <td>0.0</td>\n",
              "      <td>1.000000</td>\n",
              "      <td>0.670061</td>\n",
              "      <td>0.670061</td>\n",
              "    </tr>\n",
              "    <tr>\n",
              "      <th>S3</th>\n",
              "      <td>0.0</td>\n",
              "      <td>0.670061</td>\n",
              "      <td>1.000000</td>\n",
              "      <td>0.448981</td>\n",
              "    </tr>\n",
              "    <tr>\n",
              "      <th>S4</th>\n",
              "      <td>0.0</td>\n",
              "      <td>0.670061</td>\n",
              "      <td>0.448981</td>\n",
              "      <td>1.000000</td>\n",
              "    </tr>\n",
              "  </tbody>\n",
              "</table>\n",
              "</div>"
            ],
            "text/plain": [
              "     S1        S2        S3        S4\n",
              "S1  1.0  0.000000  0.000000  0.000000\n",
              "S2  0.0  1.000000  0.670061  0.670061\n",
              "S3  0.0  0.670061  1.000000  0.448981\n",
              "S4  0.0  0.670061  0.448981  1.000000"
            ]
          },
          "execution_count": 25,
          "metadata": {},
          "output_type": "execute_result"
        }
      ],
      "source": [
        "pd.DataFrame(\n",
        "    data=cosine_similarities,\n",
        "    index=[\"S1\", \"S2\", \"S3\", \"S4\"],\n",
        "    columns=[\"S1\", \"S2\", \"S3\", \"S4\"],\n",
        ")"
      ]
    }
  ],
  "metadata": {
    "colab": {
      "provenance": []
    },
    "kernelspec": {
      "display_name": "Python 3",
      "name": "python3"
    },
    "language_info": {
      "name": "python",
      "version": "3.12.4"
    }
  },
  "nbformat": 4,
  "nbformat_minor": 0
}
