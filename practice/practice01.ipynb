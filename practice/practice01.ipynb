{
 "cells": [
  {
   "cell_type": "markdown",
   "metadata": {},
   "source": [
    "---\n",
    "title: \"추천 시스템 스터디 실습 예제 1\"\n",
    "author: \"Sangkon Han\"\n",
    "---"
   ]
  },
  {
   "cell_type": "code",
   "execution_count": 1,
   "metadata": {},
   "outputs": [],
   "source": [
    "import pandas as pd\n",
    "import numpy as np\n",
    "import seaborn as sns\n",
    "import matplotlib.pyplot as plt\n",
    "\n",
    "\n",
    "import koreanize_matplotlib"
   ]
  },
  {
   "cell_type": "markdown",
   "metadata": {},
   "source": [
    "## 데이터 읽어오기"
   ]
  },
  {
   "cell_type": "code",
   "execution_count": 2,
   "metadata": {},
   "outputs": [
    {
     "name": "stdout",
     "output_type": "stream",
     "text": [
      "<class 'pandas.core.frame.DataFrame'>\n",
      "RangeIndex: 19 entries, 0 to 18\n",
      "Columns: 937 entries, 시군구별 to 2022.12.2\n",
      "dtypes: object(937)\n",
      "memory usage: 139.2+ KB\n"
     ]
    }
   ],
   "source": [
    "df = pd.read_csv(\"data/출생아수(2022).csv\")\n",
    "df.info()"
   ]
  },
  {
   "cell_type": "markdown",
   "metadata": {},
   "source": [
    "### info에 대한 이해\n",
    "- 행, row, 종속변인\n",
    "- 열, col, 독립변인, 특징, feat"
   ]
  },
  {
   "cell_type": "markdown",
   "metadata": {},
   "source": [
    "## 데이터 확인\n",
    "- [Tidy Data](https://vita.had.co.nz/papers/tidy-data.pdf)"
   ]
  },
  {
   "cell_type": "code",
   "execution_count": 3,
   "metadata": {},
   "outputs": [
    {
     "data": {
      "text/html": [
       "<div>\n",
       "<style scoped>\n",
       "    .dataframe tbody tr th:only-of-type {\n",
       "        vertical-align: middle;\n",
       "    }\n",
       "\n",
       "    .dataframe tbody tr th {\n",
       "        vertical-align: top;\n",
       "    }\n",
       "\n",
       "    .dataframe thead th {\n",
       "        text-align: right;\n",
       "    }\n",
       "</style>\n",
       "<table border=\"1\" class=\"dataframe\">\n",
       "  <thead>\n",
       "    <tr style=\"text-align: right;\">\n",
       "      <th></th>\n",
       "      <th>시군구별</th>\n",
       "      <th>1997.01</th>\n",
       "      <th>1997.01.1</th>\n",
       "      <th>1997.01.2</th>\n",
       "      <th>1997.02</th>\n",
       "      <th>1997.02.1</th>\n",
       "      <th>1997.02.2</th>\n",
       "      <th>1997.03</th>\n",
       "      <th>1997.03.1</th>\n",
       "      <th>1997.03.2</th>\n",
       "      <th>...</th>\n",
       "      <th>2022.09.2</th>\n",
       "      <th>2022.10</th>\n",
       "      <th>2022.10.1</th>\n",
       "      <th>2022.10.2</th>\n",
       "      <th>2022.11</th>\n",
       "      <th>2022.11.1</th>\n",
       "      <th>2022.11.2</th>\n",
       "      <th>2022.12</th>\n",
       "      <th>2022.12.1</th>\n",
       "      <th>2022.12.2</th>\n",
       "    </tr>\n",
       "  </thead>\n",
       "  <tbody>\n",
       "    <tr>\n",
       "      <th>0</th>\n",
       "      <td>시군구별</td>\n",
       "      <td>계 (명)</td>\n",
       "      <td>남자 (명)</td>\n",
       "      <td>여자 (명)</td>\n",
       "      <td>계 (명)</td>\n",
       "      <td>남자 (명)</td>\n",
       "      <td>여자 (명)</td>\n",
       "      <td>계 (명)</td>\n",
       "      <td>남자 (명)</td>\n",
       "      <td>여자 (명)</td>\n",
       "      <td>...</td>\n",
       "      <td>여자 (명)</td>\n",
       "      <td>계 (명)</td>\n",
       "      <td>남자 (명)</td>\n",
       "      <td>여자 (명)</td>\n",
       "      <td>계 (명)</td>\n",
       "      <td>남자 (명)</td>\n",
       "      <td>여자 (명)</td>\n",
       "      <td>계 (명)</td>\n",
       "      <td>남자 (명)</td>\n",
       "      <td>여자 (명)</td>\n",
       "    </tr>\n",
       "    <tr>\n",
       "      <th>1</th>\n",
       "      <td>전국</td>\n",
       "      <td>63268</td>\n",
       "      <td>33266</td>\n",
       "      <td>30002</td>\n",
       "      <td>58144</td>\n",
       "      <td>30086</td>\n",
       "      <td>28058</td>\n",
       "      <td>62160</td>\n",
       "      <td>32333</td>\n",
       "      <td>29827</td>\n",
       "      <td>...</td>\n",
       "      <td>10715</td>\n",
       "      <td>20646</td>\n",
       "      <td>10530</td>\n",
       "      <td>10116</td>\n",
       "      <td>18981</td>\n",
       "      <td>9737</td>\n",
       "      <td>9244</td>\n",
       "      <td>16896</td>\n",
       "      <td>8684</td>\n",
       "      <td>8212</td>\n",
       "    </tr>\n",
       "    <tr>\n",
       "      <th>2</th>\n",
       "      <td>서울특별시</td>\n",
       "      <td>13205</td>\n",
       "      <td>6886</td>\n",
       "      <td>6319</td>\n",
       "      <td>12239</td>\n",
       "      <td>6224</td>\n",
       "      <td>6015</td>\n",
       "      <td>13358</td>\n",
       "      <td>6947</td>\n",
       "      <td>6411</td>\n",
       "      <td>...</td>\n",
       "      <td>1831</td>\n",
       "      <td>3612</td>\n",
       "      <td>1794</td>\n",
       "      <td>1818</td>\n",
       "      <td>3230</td>\n",
       "      <td>1678</td>\n",
       "      <td>1552</td>\n",
       "      <td>2901</td>\n",
       "      <td>1472</td>\n",
       "      <td>1429</td>\n",
       "    </tr>\n",
       "    <tr>\n",
       "      <th>3</th>\n",
       "      <td>부산광역시</td>\n",
       "      <td>4201</td>\n",
       "      <td>2260</td>\n",
       "      <td>1941</td>\n",
       "      <td>3910</td>\n",
       "      <td>2104</td>\n",
       "      <td>1806</td>\n",
       "      <td>4304</td>\n",
       "      <td>2234</td>\n",
       "      <td>2070</td>\n",
       "      <td>...</td>\n",
       "      <td>575</td>\n",
       "      <td>1166</td>\n",
       "      <td>602</td>\n",
       "      <td>564</td>\n",
       "      <td>977</td>\n",
       "      <td>479</td>\n",
       "      <td>498</td>\n",
       "      <td>957</td>\n",
       "      <td>528</td>\n",
       "      <td>429</td>\n",
       "    </tr>\n",
       "    <tr>\n",
       "      <th>4</th>\n",
       "      <td>대구광역시</td>\n",
       "      <td>3345</td>\n",
       "      <td>1764</td>\n",
       "      <td>1581</td>\n",
       "      <td>2994</td>\n",
       "      <td>1608</td>\n",
       "      <td>1386</td>\n",
       "      <td>3337</td>\n",
       "      <td>1815</td>\n",
       "      <td>1522</td>\n",
       "      <td>...</td>\n",
       "      <td>416</td>\n",
       "      <td>848</td>\n",
       "      <td>428</td>\n",
       "      <td>420</td>\n",
       "      <td>802</td>\n",
       "      <td>406</td>\n",
       "      <td>396</td>\n",
       "      <td>663</td>\n",
       "      <td>334</td>\n",
       "      <td>329</td>\n",
       "    </tr>\n",
       "  </tbody>\n",
       "</table>\n",
       "<p>5 rows × 937 columns</p>\n",
       "</div>"
      ],
      "text/plain": [
       "    시군구별 1997.01 1997.01.1 1997.01.2 1997.02 1997.02.1 1997.02.2 1997.03  \\\n",
       "0   시군구별   계 (명)    남자 (명)    여자 (명)   계 (명)    남자 (명)    여자 (명)   계 (명)   \n",
       "1     전국   63268     33266     30002   58144     30086     28058   62160   \n",
       "2  서울특별시   13205      6886      6319   12239      6224      6015   13358   \n",
       "3  부산광역시    4201      2260      1941    3910      2104      1806    4304   \n",
       "4  대구광역시    3345      1764      1581    2994      1608      1386    3337   \n",
       "\n",
       "  1997.03.1 1997.03.2  ... 2022.09.2 2022.10 2022.10.1 2022.10.2 2022.11  \\\n",
       "0    남자 (명)    여자 (명)  ...    여자 (명)   계 (명)    남자 (명)    여자 (명)   계 (명)   \n",
       "1     32333     29827  ...     10715   20646     10530     10116   18981   \n",
       "2      6947      6411  ...      1831    3612      1794      1818    3230   \n",
       "3      2234      2070  ...       575    1166       602       564     977   \n",
       "4      1815      1522  ...       416     848       428       420     802   \n",
       "\n",
       "  2022.11.1 2022.11.2 2022.12 2022.12.1 2022.12.2  \n",
       "0    남자 (명)    여자 (명)   계 (명)    남자 (명)    여자 (명)  \n",
       "1      9737      9244   16896      8684      8212  \n",
       "2      1678      1552    2901      1472      1429  \n",
       "3       479       498     957       528       429  \n",
       "4       406       396     663       334       329  \n",
       "\n",
       "[5 rows x 937 columns]"
      ]
     },
     "execution_count": 3,
     "metadata": {},
     "output_type": "execute_result"
    }
   ],
   "source": [
    "df.head()"
   ]
  },
  {
   "cell_type": "markdown",
   "metadata": {},
   "source": [
    "## 데이터 변형\n",
    "- https://pandas.pydata.org/docs/reference/api/pandas.melt.html\n",
    "- https://pandas.pydata.org/pandas-docs/stable/reference/api/pandas.DataFrame.pivot.html\n",
    "- https://pandas.pydata.org/docs/reference/api/pandas.merge.html\n",
    "- https://pandas.pydata.org/docs/reference/api/pandas.concat.html"
   ]
  },
  {
   "cell_type": "code",
   "execution_count": 4,
   "metadata": {},
   "outputs": [
    {
     "data": {
      "text/html": [
       "<div>\n",
       "<style scoped>\n",
       "    .dataframe tbody tr th:only-of-type {\n",
       "        vertical-align: middle;\n",
       "    }\n",
       "\n",
       "    .dataframe tbody tr th {\n",
       "        vertical-align: top;\n",
       "    }\n",
       "\n",
       "    .dataframe thead th {\n",
       "        text-align: right;\n",
       "    }\n",
       "</style>\n",
       "<table border=\"1\" class=\"dataframe\">\n",
       "  <thead>\n",
       "    <tr style=\"text-align: right;\">\n",
       "      <th></th>\n",
       "      <th>시군구별</th>\n",
       "      <th>variable</th>\n",
       "      <th>value</th>\n",
       "    </tr>\n",
       "  </thead>\n",
       "  <tbody>\n",
       "    <tr>\n",
       "      <th>0</th>\n",
       "      <td>시군구별</td>\n",
       "      <td>1997.01</td>\n",
       "      <td>계 (명)</td>\n",
       "    </tr>\n",
       "    <tr>\n",
       "      <th>1</th>\n",
       "      <td>전국</td>\n",
       "      <td>1997.01</td>\n",
       "      <td>63268</td>\n",
       "    </tr>\n",
       "    <tr>\n",
       "      <th>2</th>\n",
       "      <td>서울특별시</td>\n",
       "      <td>1997.01</td>\n",
       "      <td>13205</td>\n",
       "    </tr>\n",
       "    <tr>\n",
       "      <th>3</th>\n",
       "      <td>부산광역시</td>\n",
       "      <td>1997.01</td>\n",
       "      <td>4201</td>\n",
       "    </tr>\n",
       "    <tr>\n",
       "      <th>4</th>\n",
       "      <td>대구광역시</td>\n",
       "      <td>1997.01</td>\n",
       "      <td>3345</td>\n",
       "    </tr>\n",
       "  </tbody>\n",
       "</table>\n",
       "</div>"
      ],
      "text/plain": [
       "    시군구별 variable  value\n",
       "0   시군구별  1997.01  계 (명)\n",
       "1     전국  1997.01  63268\n",
       "2  서울특별시  1997.01  13205\n",
       "3  부산광역시  1997.01   4201\n",
       "4  대구광역시  1997.01   3345"
      ]
     },
     "execution_count": 4,
     "metadata": {},
     "output_type": "execute_result"
    }
   ],
   "source": [
    "df = df.melt(id_vars=\"시군구별\")\n",
    "df.head()"
   ]
  },
  {
   "cell_type": "code",
   "execution_count": 5,
   "metadata": {},
   "outputs": [
    {
     "data": {
      "text/plain": [
       "array(['시군구별', '전국', '서울특별시', '부산광역시', '대구광역시', '인천광역시', '광주광역시', '대전광역시',\n",
       "       '울산광역시', '세종특별자치시', '경기도', '강원도', '충청북도', '충청남도', '전라북도', '전라남도',\n",
       "       '경상북도', '경상남도', '제주특별자치도'], dtype=object)"
      ]
     },
     "execution_count": 5,
     "metadata": {},
     "output_type": "execute_result"
    }
   ],
   "source": [
    "# https://pandas.pydata.org/pandas-docs/stable/reference/api/pandas.Series.html#\n",
    "df[\"시군구별\"].unique()"
   ]
  },
  {
   "cell_type": "code",
   "execution_count": 6,
   "metadata": {},
   "outputs": [
    {
     "data": {
      "text/plain": [
       "(16848, 3)"
      ]
     },
     "execution_count": 6,
     "metadata": {},
     "output_type": "execute_result"
    }
   ],
   "source": [
    "# https://pandas.pydata.org/docs/user_guide/indexing.html#boolean-indexing\n",
    "df = df[df[\"시군구별\"] != \"시군구별\"].copy()\n",
    "\n",
    "\n",
    "df.shape"
   ]
  },
  {
   "cell_type": "code",
   "execution_count": 7,
   "metadata": {},
   "outputs": [
    {
     "data": {
      "text/plain": [
       "array(['전국', '서울특별시', '부산광역시', '대구광역시', '인천광역시', '광주광역시', '대전광역시',\n",
       "       '울산광역시', '세종특별자치시', '경기도', '강원도', '충청북도', '충청남도', '전라북도', '전라남도',\n",
       "       '경상북도', '경상남도', '제주특별자치도'], dtype=object)"
      ]
     },
     "execution_count": 7,
     "metadata": {},
     "output_type": "execute_result"
    }
   ],
   "source": [
    "df[\"시군구별\"].unique()"
   ]
  },
  {
   "cell_type": "code",
   "execution_count": 8,
   "metadata": {},
   "outputs": [
    {
     "data": {
      "text/html": [
       "<div>\n",
       "<style scoped>\n",
       "    .dataframe tbody tr th:only-of-type {\n",
       "        vertical-align: middle;\n",
       "    }\n",
       "\n",
       "    .dataframe tbody tr th {\n",
       "        vertical-align: top;\n",
       "    }\n",
       "\n",
       "    .dataframe thead th {\n",
       "        text-align: right;\n",
       "    }\n",
       "</style>\n",
       "<table border=\"1\" class=\"dataframe\">\n",
       "  <thead>\n",
       "    <tr style=\"text-align: right;\">\n",
       "      <th></th>\n",
       "      <th>시군구별</th>\n",
       "      <th>variable</th>\n",
       "      <th>value</th>\n",
       "    </tr>\n",
       "  </thead>\n",
       "  <tbody>\n",
       "    <tr>\n",
       "      <th>1</th>\n",
       "      <td>전국</td>\n",
       "      <td>1997.01</td>\n",
       "      <td>63268</td>\n",
       "    </tr>\n",
       "    <tr>\n",
       "      <th>2</th>\n",
       "      <td>서울특별시</td>\n",
       "      <td>1997.01</td>\n",
       "      <td>13205</td>\n",
       "    </tr>\n",
       "    <tr>\n",
       "      <th>3</th>\n",
       "      <td>부산광역시</td>\n",
       "      <td>1997.01</td>\n",
       "      <td>4201</td>\n",
       "    </tr>\n",
       "    <tr>\n",
       "      <th>4</th>\n",
       "      <td>대구광역시</td>\n",
       "      <td>1997.01</td>\n",
       "      <td>3345</td>\n",
       "    </tr>\n",
       "    <tr>\n",
       "      <th>5</th>\n",
       "      <td>인천광역시</td>\n",
       "      <td>1997.01</td>\n",
       "      <td>3646</td>\n",
       "    </tr>\n",
       "  </tbody>\n",
       "</table>\n",
       "</div>"
      ],
      "text/plain": [
       "    시군구별 variable  value\n",
       "1     전국  1997.01  63268\n",
       "2  서울특별시  1997.01  13205\n",
       "3  부산광역시  1997.01   4201\n",
       "4  대구광역시  1997.01   3345\n",
       "5  인천광역시  1997.01   3646"
      ]
     },
     "execution_count": 8,
     "metadata": {},
     "output_type": "execute_result"
    }
   ],
   "source": [
    "df.head()"
   ]
  },
  {
   "cell_type": "code",
   "execution_count": 9,
   "metadata": {},
   "outputs": [
    {
     "data": {
      "text/html": [
       "<div>\n",
       "<style scoped>\n",
       "    .dataframe tbody tr th:only-of-type {\n",
       "        vertical-align: middle;\n",
       "    }\n",
       "\n",
       "    .dataframe tbody tr th {\n",
       "        vertical-align: top;\n",
       "    }\n",
       "\n",
       "    .dataframe thead th {\n",
       "        text-align: right;\n",
       "    }\n",
       "</style>\n",
       "<table border=\"1\" class=\"dataframe\">\n",
       "  <thead>\n",
       "    <tr style=\"text-align: right;\">\n",
       "      <th></th>\n",
       "      <th>시군구별</th>\n",
       "      <th>variable</th>\n",
       "      <th>value</th>\n",
       "      <th>연도</th>\n",
       "      <th>월</th>\n",
       "      <th>성별</th>\n",
       "    </tr>\n",
       "  </thead>\n",
       "  <tbody>\n",
       "    <tr>\n",
       "      <th>1</th>\n",
       "      <td>전국</td>\n",
       "      <td>1997.01</td>\n",
       "      <td>63268</td>\n",
       "      <td>1997</td>\n",
       "      <td>01</td>\n",
       "      <td>None</td>\n",
       "    </tr>\n",
       "    <tr>\n",
       "      <th>2</th>\n",
       "      <td>서울특별시</td>\n",
       "      <td>1997.01</td>\n",
       "      <td>13205</td>\n",
       "      <td>1997</td>\n",
       "      <td>01</td>\n",
       "      <td>None</td>\n",
       "    </tr>\n",
       "    <tr>\n",
       "      <th>3</th>\n",
       "      <td>부산광역시</td>\n",
       "      <td>1997.01</td>\n",
       "      <td>4201</td>\n",
       "      <td>1997</td>\n",
       "      <td>01</td>\n",
       "      <td>None</td>\n",
       "    </tr>\n",
       "    <tr>\n",
       "      <th>4</th>\n",
       "      <td>대구광역시</td>\n",
       "      <td>1997.01</td>\n",
       "      <td>3345</td>\n",
       "      <td>1997</td>\n",
       "      <td>01</td>\n",
       "      <td>None</td>\n",
       "    </tr>\n",
       "    <tr>\n",
       "      <th>5</th>\n",
       "      <td>인천광역시</td>\n",
       "      <td>1997.01</td>\n",
       "      <td>3646</td>\n",
       "      <td>1997</td>\n",
       "      <td>01</td>\n",
       "      <td>None</td>\n",
       "    </tr>\n",
       "  </tbody>\n",
       "</table>\n",
       "</div>"
      ],
      "text/plain": [
       "    시군구별 variable  value    연도   월    성별\n",
       "1     전국  1997.01  63268  1997  01  None\n",
       "2  서울특별시  1997.01  13205  1997  01  None\n",
       "3  부산광역시  1997.01   4201  1997  01  None\n",
       "4  대구광역시  1997.01   3345  1997  01  None\n",
       "5  인천광역시  1997.01   3646  1997  01  None"
      ]
     },
     "execution_count": 9,
     "metadata": {},
     "output_type": "execute_result"
    }
   ],
   "source": [
    "# https://pandas.pydata.org/docs/reference/api/pandas.Series.str.split.html#pandas-series-str-split\n",
    "df[\"연도\"] = df[\"variable\"].str.split(\".\", expand=True)[0]\n",
    "\n",
    "\n",
    "df[\"월\"] = df[\"variable\"].str.split(\".\", expand=True)[1]\n",
    "\n",
    "\n",
    "df[\"성별\"] = df[\"variable\"].str.split(\".\", expand=True)[2]\n",
    "\n",
    "\n",
    "df.head()"
   ]
  },
  {
   "cell_type": "code",
   "execution_count": 10,
   "metadata": {},
   "outputs": [
    {
     "data": {
      "text/html": [
       "<div>\n",
       "<style scoped>\n",
       "    .dataframe tbody tr th:only-of-type {\n",
       "        vertical-align: middle;\n",
       "    }\n",
       "\n",
       "    .dataframe tbody tr th {\n",
       "        vertical-align: top;\n",
       "    }\n",
       "\n",
       "    .dataframe thead th {\n",
       "        text-align: right;\n",
       "    }\n",
       "</style>\n",
       "<table border=\"1\" class=\"dataframe\">\n",
       "  <thead>\n",
       "    <tr style=\"text-align: right;\">\n",
       "      <th></th>\n",
       "      <th>시군구별</th>\n",
       "      <th>variable</th>\n",
       "      <th>value</th>\n",
       "      <th>연도</th>\n",
       "      <th>월</th>\n",
       "      <th>성별</th>\n",
       "    </tr>\n",
       "  </thead>\n",
       "  <tbody>\n",
       "    <tr>\n",
       "      <th>17779</th>\n",
       "      <td>전라북도</td>\n",
       "      <td>2022.12.2</td>\n",
       "      <td>229</td>\n",
       "      <td>2022</td>\n",
       "      <td>12</td>\n",
       "      <td>2</td>\n",
       "    </tr>\n",
       "    <tr>\n",
       "      <th>17780</th>\n",
       "      <td>전라남도</td>\n",
       "      <td>2022.12.2</td>\n",
       "      <td>250</td>\n",
       "      <td>2022</td>\n",
       "      <td>12</td>\n",
       "      <td>2</td>\n",
       "    </tr>\n",
       "    <tr>\n",
       "      <th>17781</th>\n",
       "      <td>경상북도</td>\n",
       "      <td>2022.12.2</td>\n",
       "      <td>366</td>\n",
       "      <td>2022</td>\n",
       "      <td>12</td>\n",
       "      <td>2</td>\n",
       "    </tr>\n",
       "    <tr>\n",
       "      <th>17782</th>\n",
       "      <td>경상남도</td>\n",
       "      <td>2022.12.2</td>\n",
       "      <td>503</td>\n",
       "      <td>2022</td>\n",
       "      <td>12</td>\n",
       "      <td>2</td>\n",
       "    </tr>\n",
       "    <tr>\n",
       "      <th>17783</th>\n",
       "      <td>제주특별자치도</td>\n",
       "      <td>2022.12.2</td>\n",
       "      <td>121</td>\n",
       "      <td>2022</td>\n",
       "      <td>12</td>\n",
       "      <td>2</td>\n",
       "    </tr>\n",
       "  </tbody>\n",
       "</table>\n",
       "</div>"
      ],
      "text/plain": [
       "          시군구별   variable value    연도   월 성별\n",
       "17779     전라북도  2022.12.2   229  2022  12  2\n",
       "17780     전라남도  2022.12.2   250  2022  12  2\n",
       "17781     경상북도  2022.12.2   366  2022  12  2\n",
       "17782     경상남도  2022.12.2   503  2022  12  2\n",
       "17783  제주특별자치도  2022.12.2   121  2022  12  2"
      ]
     },
     "execution_count": 10,
     "metadata": {},
     "output_type": "execute_result"
    }
   ],
   "source": [
    "df.tail()"
   ]
  },
  {
   "cell_type": "code",
   "execution_count": 11,
   "metadata": {},
   "outputs": [
    {
     "data": {
      "text/plain": [
       "array([None, '1', '2'], dtype=object)"
      ]
     },
     "execution_count": 11,
     "metadata": {},
     "output_type": "execute_result"
    }
   ],
   "source": [
    "df[\"성별\"].unique()"
   ]
  },
  {
   "cell_type": "code",
   "execution_count": 12,
   "metadata": {},
   "outputs": [
    {
     "data": {
      "text/plain": [
       "2"
      ]
     },
     "execution_count": 12,
     "metadata": {},
     "output_type": "execute_result"
    }
   ],
   "source": [
    "df[\"성별\"].nunique()"
   ]
  },
  {
   "cell_type": "code",
   "execution_count": 13,
   "metadata": {},
   "outputs": [
    {
     "data": {
      "text/plain": [
       "array(['전체', '1', '2'], dtype=object)"
      ]
     },
     "execution_count": 13,
     "metadata": {},
     "output_type": "execute_result"
    }
   ],
   "source": [
    "df[\"성별\"] = df[\"성별\"].fillna(\"전체\")\n",
    "df[\"성별\"].unique()"
   ]
  },
  {
   "cell_type": "code",
   "execution_count": 14,
   "metadata": {},
   "outputs": [
    {
     "data": {
      "text/plain": [
       "array(['전체', '남자', '여자'], dtype=object)"
      ]
     },
     "execution_count": 14,
     "metadata": {},
     "output_type": "execute_result"
    }
   ],
   "source": [
    "df[\"성별\"] = df[\"성별\"].replace(\"1\", \"남자\").replace(\"2\", \"여자\")\n",
    "df[\"성별\"].unique()"
   ]
  },
  {
   "cell_type": "code",
   "execution_count": 15,
   "metadata": {},
   "outputs": [
    {
     "data": {
      "text/plain": [
       "성별\n",
       "전체    5616\n",
       "남자    5616\n",
       "여자    5616\n",
       "Name: count, dtype: int64"
      ]
     },
     "execution_count": 15,
     "metadata": {},
     "output_type": "execute_result"
    }
   ],
   "source": [
    "df[\"성별\"].value_counts()"
   ]
  },
  {
   "cell_type": "code",
   "execution_count": 16,
   "metadata": {},
   "outputs": [
    {
     "data": {
      "text/html": [
       "<div>\n",
       "<style scoped>\n",
       "    .dataframe tbody tr th:only-of-type {\n",
       "        vertical-align: middle;\n",
       "    }\n",
       "\n",
       "    .dataframe tbody tr th {\n",
       "        vertical-align: top;\n",
       "    }\n",
       "\n",
       "    .dataframe thead th {\n",
       "        text-align: right;\n",
       "    }\n",
       "</style>\n",
       "<table border=\"1\" class=\"dataframe\">\n",
       "  <thead>\n",
       "    <tr style=\"text-align: right;\">\n",
       "      <th></th>\n",
       "      <th>시군구별</th>\n",
       "      <th>variable</th>\n",
       "      <th>value</th>\n",
       "      <th>연도</th>\n",
       "      <th>월</th>\n",
       "      <th>성별</th>\n",
       "    </tr>\n",
       "  </thead>\n",
       "  <tbody>\n",
       "    <tr>\n",
       "      <th>1</th>\n",
       "      <td>전국</td>\n",
       "      <td>1997.01</td>\n",
       "      <td>63268</td>\n",
       "      <td>1997</td>\n",
       "      <td>01</td>\n",
       "      <td>전체</td>\n",
       "    </tr>\n",
       "    <tr>\n",
       "      <th>2</th>\n",
       "      <td>서울특별시</td>\n",
       "      <td>1997.01</td>\n",
       "      <td>13205</td>\n",
       "      <td>1997</td>\n",
       "      <td>01</td>\n",
       "      <td>전체</td>\n",
       "    </tr>\n",
       "    <tr>\n",
       "      <th>3</th>\n",
       "      <td>부산광역시</td>\n",
       "      <td>1997.01</td>\n",
       "      <td>4201</td>\n",
       "      <td>1997</td>\n",
       "      <td>01</td>\n",
       "      <td>전체</td>\n",
       "    </tr>\n",
       "    <tr>\n",
       "      <th>4</th>\n",
       "      <td>대구광역시</td>\n",
       "      <td>1997.01</td>\n",
       "      <td>3345</td>\n",
       "      <td>1997</td>\n",
       "      <td>01</td>\n",
       "      <td>전체</td>\n",
       "    </tr>\n",
       "    <tr>\n",
       "      <th>5</th>\n",
       "      <td>인천광역시</td>\n",
       "      <td>1997.01</td>\n",
       "      <td>3646</td>\n",
       "      <td>1997</td>\n",
       "      <td>01</td>\n",
       "      <td>전체</td>\n",
       "    </tr>\n",
       "  </tbody>\n",
       "</table>\n",
       "</div>"
      ],
      "text/plain": [
       "    시군구별 variable  value    연도   월  성별\n",
       "1     전국  1997.01  63268  1997  01  전체\n",
       "2  서울특별시  1997.01  13205  1997  01  전체\n",
       "3  부산광역시  1997.01   4201  1997  01  전체\n",
       "4  대구광역시  1997.01   3345  1997  01  전체\n",
       "5  인천광역시  1997.01   3646  1997  01  전체"
      ]
     },
     "execution_count": 16,
     "metadata": {},
     "output_type": "execute_result"
    }
   ],
   "source": [
    "df.head()"
   ]
  },
  {
   "cell_type": "code",
   "execution_count": 17,
   "metadata": {},
   "outputs": [
    {
     "data": {
      "text/html": [
       "<div>\n",
       "<style scoped>\n",
       "    .dataframe tbody tr th:only-of-type {\n",
       "        vertical-align: middle;\n",
       "    }\n",
       "\n",
       "    .dataframe tbody tr th {\n",
       "        vertical-align: top;\n",
       "    }\n",
       "\n",
       "    .dataframe thead th {\n",
       "        text-align: right;\n",
       "    }\n",
       "</style>\n",
       "<table border=\"1\" class=\"dataframe\">\n",
       "  <thead>\n",
       "    <tr style=\"text-align: right;\">\n",
       "      <th></th>\n",
       "      <th>시군구별</th>\n",
       "      <th>기간</th>\n",
       "      <th>출생아수</th>\n",
       "      <th>연도</th>\n",
       "      <th>월</th>\n",
       "      <th>성별</th>\n",
       "    </tr>\n",
       "  </thead>\n",
       "  <tbody>\n",
       "    <tr>\n",
       "      <th>1</th>\n",
       "      <td>전국</td>\n",
       "      <td>1997.01</td>\n",
       "      <td>63268</td>\n",
       "      <td>1997</td>\n",
       "      <td>01</td>\n",
       "      <td>전체</td>\n",
       "    </tr>\n",
       "    <tr>\n",
       "      <th>2</th>\n",
       "      <td>서울특별시</td>\n",
       "      <td>1997.01</td>\n",
       "      <td>13205</td>\n",
       "      <td>1997</td>\n",
       "      <td>01</td>\n",
       "      <td>전체</td>\n",
       "    </tr>\n",
       "    <tr>\n",
       "      <th>3</th>\n",
       "      <td>부산광역시</td>\n",
       "      <td>1997.01</td>\n",
       "      <td>4201</td>\n",
       "      <td>1997</td>\n",
       "      <td>01</td>\n",
       "      <td>전체</td>\n",
       "    </tr>\n",
       "    <tr>\n",
       "      <th>4</th>\n",
       "      <td>대구광역시</td>\n",
       "      <td>1997.01</td>\n",
       "      <td>3345</td>\n",
       "      <td>1997</td>\n",
       "      <td>01</td>\n",
       "      <td>전체</td>\n",
       "    </tr>\n",
       "    <tr>\n",
       "      <th>5</th>\n",
       "      <td>인천광역시</td>\n",
       "      <td>1997.01</td>\n",
       "      <td>3646</td>\n",
       "      <td>1997</td>\n",
       "      <td>01</td>\n",
       "      <td>전체</td>\n",
       "    </tr>\n",
       "  </tbody>\n",
       "</table>\n",
       "</div>"
      ],
      "text/plain": [
       "    시군구별       기간   출생아수    연도   월  성별\n",
       "1     전국  1997.01  63268  1997  01  전체\n",
       "2  서울특별시  1997.01  13205  1997  01  전체\n",
       "3  부산광역시  1997.01   4201  1997  01  전체\n",
       "4  대구광역시  1997.01   3345  1997  01  전체\n",
       "5  인천광역시  1997.01   3646  1997  01  전체"
      ]
     },
     "execution_count": 17,
     "metadata": {},
     "output_type": "execute_result"
    }
   ],
   "source": [
    "df = df.rename(columns={\"variable\": \"기간\", \"value\": \"출생아수\"})\n",
    "df.head()"
   ]
  },
  {
   "cell_type": "code",
   "execution_count": 18,
   "metadata": {},
   "outputs": [
    {
     "name": "stdout",
     "output_type": "stream",
     "text": [
      "<class 'pandas.core.frame.DataFrame'>\n",
      "Index: 16848 entries, 1 to 17783\n",
      "Data columns (total 6 columns):\n",
      " #   Column  Non-Null Count  Dtype \n",
      "---  ------  --------------  ----- \n",
      " 0   시군구별    16848 non-null  object\n",
      " 1   기간      16848 non-null  object\n",
      " 2   출생아수    16848 non-null  object\n",
      " 3   연도      16848 non-null  object\n",
      " 4   월       16848 non-null  object\n",
      " 5   성별      16848 non-null  object\n",
      "dtypes: object(6)\n",
      "memory usage: 921.4+ KB\n"
     ]
    }
   ],
   "source": [
    "df.info()"
   ]
  },
  {
   "cell_type": "code",
   "execution_count": 19,
   "metadata": {},
   "outputs": [
    {
     "data": {
      "text/plain": [
       "count    16308.000000\n",
       "mean      2898.333579\n",
       "std       6406.925280\n",
       "min         30.000000\n",
       "25%        589.000000\n",
       "50%        980.000000\n",
       "75%       1833.250000\n",
       "max      63268.000000\n",
       "Name: 출생아수, dtype: float64"
      ]
     },
     "execution_count": 19,
     "metadata": {},
     "output_type": "execute_result"
    }
   ],
   "source": [
    "# https://pandas.pydata.org/docs/user_guide/missing_data.html#values-considered-missing\n",
    "df[\"출생아수\"] = df[\"출생아수\"].replace(\"-\", np.nan)\n",
    "df[\"출생아수\"] = df[\"출생아수\"].astype(float)\n",
    "df[\"출생아수\"].describe()"
   ]
  },
  {
   "cell_type": "code",
   "execution_count": 20,
   "metadata": {},
   "outputs": [
    {
     "data": {
      "text/html": [
       "<div>\n",
       "<style scoped>\n",
       "    .dataframe tbody tr th:only-of-type {\n",
       "        vertical-align: middle;\n",
       "    }\n",
       "\n",
       "    .dataframe tbody tr th {\n",
       "        vertical-align: top;\n",
       "    }\n",
       "\n",
       "    .dataframe thead th {\n",
       "        text-align: right;\n",
       "    }\n",
       "</style>\n",
       "<table border=\"1\" class=\"dataframe\">\n",
       "  <thead>\n",
       "    <tr style=\"text-align: right;\">\n",
       "      <th></th>\n",
       "      <th>시군구별</th>\n",
       "      <th>기간</th>\n",
       "      <th>출생아수</th>\n",
       "      <th>연도</th>\n",
       "      <th>월</th>\n",
       "      <th>성별</th>\n",
       "    </tr>\n",
       "  </thead>\n",
       "  <tbody>\n",
       "    <tr>\n",
       "      <th>1</th>\n",
       "      <td>전국</td>\n",
       "      <td>1997.01</td>\n",
       "      <td>63268.0</td>\n",
       "      <td>1997</td>\n",
       "      <td>01</td>\n",
       "      <td>전체</td>\n",
       "    </tr>\n",
       "    <tr>\n",
       "      <th>58</th>\n",
       "      <td>전국</td>\n",
       "      <td>1997.02</td>\n",
       "      <td>58144.0</td>\n",
       "      <td>1997</td>\n",
       "      <td>02</td>\n",
       "      <td>전체</td>\n",
       "    </tr>\n",
       "  </tbody>\n",
       "</table>\n",
       "</div>"
      ],
      "text/plain": [
       "   시군구별       기간     출생아수    연도   월  성별\n",
       "1    전국  1997.01  63268.0  1997  01  전체\n",
       "58   전국  1997.02  58144.0  1997  02  전체"
      ]
     },
     "execution_count": 20,
     "metadata": {},
     "output_type": "execute_result"
    }
   ],
   "source": [
    "df_all = df[(df[\"시군구별\"] == \"전국\") & (df[\"성별\"] == \"전체\")]\n",
    "df_all.head(2)"
   ]
  },
  {
   "cell_type": "code",
   "execution_count": 21,
   "metadata": {},
   "outputs": [
    {
     "data": {
      "text/html": [
       "<div>\n",
       "<style scoped>\n",
       "    .dataframe tbody tr th:only-of-type {\n",
       "        vertical-align: middle;\n",
       "    }\n",
       "\n",
       "    .dataframe tbody tr th {\n",
       "        vertical-align: top;\n",
       "    }\n",
       "\n",
       "    .dataframe thead th {\n",
       "        text-align: right;\n",
       "    }\n",
       "</style>\n",
       "<table border=\"1\" class=\"dataframe\">\n",
       "  <thead>\n",
       "    <tr style=\"text-align: right;\">\n",
       "      <th></th>\n",
       "      <th>연도</th>\n",
       "      <th>월</th>\n",
       "      <th>출생아수</th>\n",
       "    </tr>\n",
       "  </thead>\n",
       "  <tbody>\n",
       "    <tr>\n",
       "      <th>1</th>\n",
       "      <td>1997</td>\n",
       "      <td>01</td>\n",
       "      <td>63268.0</td>\n",
       "    </tr>\n",
       "    <tr>\n",
       "      <th>58</th>\n",
       "      <td>1997</td>\n",
       "      <td>02</td>\n",
       "      <td>58144.0</td>\n",
       "    </tr>\n",
       "    <tr>\n",
       "      <th>115</th>\n",
       "      <td>1997</td>\n",
       "      <td>03</td>\n",
       "      <td>62160.0</td>\n",
       "    </tr>\n",
       "    <tr>\n",
       "      <th>172</th>\n",
       "      <td>1997</td>\n",
       "      <td>04</td>\n",
       "      <td>56949.0</td>\n",
       "    </tr>\n",
       "    <tr>\n",
       "      <th>229</th>\n",
       "      <td>1997</td>\n",
       "      <td>05</td>\n",
       "      <td>55270.0</td>\n",
       "    </tr>\n",
       "  </tbody>\n",
       "</table>\n",
       "</div>"
      ],
      "text/plain": [
       "       연도   월     출생아수\n",
       "1    1997  01  63268.0\n",
       "58   1997  02  58144.0\n",
       "115  1997  03  62160.0\n",
       "172  1997  04  56949.0\n",
       "229  1997  05  55270.0"
      ]
     },
     "execution_count": 21,
     "metadata": {},
     "output_type": "execute_result"
    }
   ],
   "source": [
    "df_all = df_all[[\"연도\", \"월\", \"출생아수\"]].copy()\n",
    "df_all.head()"
   ]
  },
  {
   "cell_type": "code",
   "execution_count": 22,
   "metadata": {},
   "outputs": [
    {
     "data": {
      "text/plain": [
       "<Axes: xlabel='연도,월'>"
      ]
     },
     "execution_count": 22,
     "metadata": {},
     "output_type": "execute_result"
    },
    {
     "data": {
      "image/png": "[encoded data removed]",
      "text/plain": [
       "<Figure size 1500x400 with 1 Axes>"
      ]
     },
     "metadata": {},
     "output_type": "display_data"
    }
   ],
   "source": [
    "df_all.set_index([\"연도\", \"월\"]).plot(figsize=(15, 4))"
   ]
  },
  {
   "cell_type": "code",
   "execution_count": 30,
   "metadata": {},
   "outputs": [
    {
     "data": {
      "text/plain": [
       "<Axes: xlabel='연도'>"
      ]
     },
     "execution_count": 30,
     "metadata": {},
     "output_type": "execute_result"
    },
    {
     "data": {
      "image/png": "[encoded data removed]",
      "text/plain": [
       "<Figure size 1500x400 with 1 Axes>"
      ]
     },
     "metadata": {},
     "output_type": "display_data"
    }
   ],
   "source": [
    "df_all.groupby(\"연도\").sum().plot(figsize=(15, 4))"
   ]
  },
  {
   "cell_type": "code",
   "execution_count": 31,
   "metadata": {},
   "outputs": [
    {
     "data": {
      "text/plain": [
       "<Axes: xlabel='연도', ylabel='출생아수'>"
      ]
     },
     "execution_count": 31,
     "metadata": {},
     "output_type": "execute_result"
    },
    {
     "data": {
      "image/png": "[encoded data removed]",
      "text/plain": [
       "<Figure size 1500x400 with 1 Axes>"
      ]
     },
     "metadata": {},
     "output_type": "display_data"
    }
   ],
   "source": [
    "plt.figure(figsize=(15, 4))\n",
    "sns.lineplot(data=df_all, x=\"연도\", y=\"출생아수\")"
   ]
  },
  {
   "cell_type": "code",
   "execution_count": null,
   "metadata": {},
   "outputs": [],
   "source": []
  }
 ],
 "metadata": {
  "kernelspec": {
   "display_name": ".venv",
   "language": "python",
   "name": "python3"
  },
  "language_info": {
   "codemirror_mode": {
    "name": "ipython",
    "version": 3
   },
   "file_extension": ".py",
   "mimetype": "text/x-python",
   "name": "python",
   "nbconvert_exporter": "python",
   "pygments_lexer": "ipython3",
   "version": "3.11.9"
  }
 },
 "nbformat": 4,
 "nbformat_minor": 2
}
